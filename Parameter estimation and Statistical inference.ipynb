{
 "cells": [
  {
   "cell_type": "markdown",
   "id": "322dea0e-1ea6-46bf-acc4-87f947bb6e90",
   "metadata": {},
   "source": [
    "<h1 align=center> Statistical Inference and Estimation of Mean</h1> \n",
    "<h2 align=center>Section 4, Part-1 </h2> \n",
    "<h3 align=center>Surya Lamichhane </h3> \n"
   ]
  },
  {
   "cell_type": "markdown",
   "id": "9a20c832",
   "metadata": {
    "jp-MarkdownHeadingCollapsed": true
   },
   "source": [
    "---\n",
    "<h2> Learning Objectives </h2>\n",
    "\n",
    "After of completion of this lesson you will be able to understand and apply:\n",
    "\n",
    "- Point estimation\n",
    "- Confidence intervals\n",
    "- Hypothesis testing\n",
    "- Diagnostic Tests\n",
    "- Practical Examples in R\n",
    "---"
   ]
  },
  {
   "cell_type": "markdown",
   "id": "7b0408ab-199d-4bb7-a525-362478d86fd4",
   "metadata": {},
   "source": [
    "# 1. Introduction to Statistical Inference\n",
    "Statistical inference involves drawing conclusions about a population based data from a sample. It allows us to estimate population parameters and test hypothesis using sample statistics. The method of inference consists of two main parts:\n",
    "\n",
    "- Estimation: Estimating population parameters (e.g., mean, proportion) using sample statistics.\n",
    "- Hypothesis Testing: Testing assumptions or claims about population parameters.\n",
    "\n",
    "R is a powerful tool for performing statistical inference, offering a wide range of functions and packages.\n",
    "\n",
    "---"
   ]
  },
  {
   "cell_type": "markdown",
   "id": "bc6d46b9-bf3c-45f2-9230-0b92ed3ee27d",
   "metadata": {},
   "source": [
    "## 1.1. Population VS Sample: Parameters and Statistics\n",
    "Population Data refers to the complete set of individuals, objects, or species relevant to a particular analysis. The primary objective of statistical studies is to analyze population data. However, examining an entire population is often impractical or impossible. To address this, a smaller, representative subset called a sample is collected, and conclusions about the population are drawn from it.\n",
    "\n",
    "---\n",
    "### Parameter vs. Statistic\n",
    "**Parameter:**  A parameter is a numerical value that describes a characteristic of an entire population. Since the full population is typically inaccessible, the parameter is considered unknown but fixed. It provides a summary measure of the population. Examples of parameters include:\n",
    "- Population mean ($\\mu$)\n",
    "- Population proportion (p)\n",
    "- Population standard deviation ($\\sigma$)\n",
    "---\n",
    "**Statistic**: A statistic is a numerical value that characterizes a sample. Since it is derived from a specific sample, its value is known, but it varies across different samples. Examples of statistics include:\n",
    "\n",
    "- Sample mean ( $\\bar{X}$)\n",
    "- Sample proportion ($\\hat{p}$)\n",
    "- Sample standard deviation (s)\n",
    "---\n",
    "**Motivational Example**: \n",
    "\n",
    ">- Population Data:The actual weight of all 200-grams potato chip bags produced by Frito-Lay. Since it is impractical to measure the weight of every bag, the full population data remains unknown.\n",
    ">- Parameter: The mean weight of all produced bags, which is unknown but fixed.\n",
    ">- Sample: The weights of a randomly selected 200 bags from the production line.\n",
    ">- Statistic: The mean weight of the 200 sampled bags. Since this value is derived from a sample, it is known but varies across different samples. This sample mean serves as the best point estimate of the actual population mean.\n",
    ">- Estimation: Our goal is to estimate the true mean weight of all produced bags using the sample data.\n",
    ">- Hypothesis Testing: We aim to test whether the company's claim that each bag weighs 200 grams is statistically significant or not.\n",
    "---"
   ]
  },
  {
   "cell_type": "code",
   "execution_count": 62,
   "id": "5778232d-4d51-4291-b529-9ebca5c221f1",
   "metadata": {
    "scrolled": true
   },
   "outputs": [
    {
     "name": "stdout",
     "output_type": "stream",
     "text": [
      "[1] \"Generated Samples:\"\n",
      "       Sample1  Sample2  Sample3  Sample4  Sample5\n",
      " [1,] 194.3952 212.2408 189.3218 204.2646 193.0529\n",
      " [2,] 197.6982 203.5981 197.8203 197.0493 197.9208\n",
      " [3,] 215.5871 204.0077 189.7400 208.9513 187.3460\n",
      " [4,] 200.7051 201.1068 192.7111 208.7813 221.6896\n",
      " [5,] 201.2929 194.4416 193.7496 208.2158 212.0796\n",
      " [6,] 217.1506 217.8691 183.1331 206.8864 188.7689\n",
      " [7,] 204.6092 204.9785 208.3779 205.5392 195.9712\n",
      " [8,] 187.3494 180.3338 201.5337 199.3809 195.3334\n",
      " [9,] 193.1315 207.0136 188.6186 196.9404 207.7997\n",
      "[10,] 195.5434 195.2721 212.5381 196.1953 199.1663\n",
      "[1] \"Mean of each sample (size 10):\"\n",
      " Sample1  Sample2  Sample3  Sample4  Sample5 \n",
      "200.7463 202.0862 195.7544 203.2204 199.9128 \n"
     ]
    }
   ],
   "source": [
    "# Set seed for reproducibility\n",
    "set.seed(123)\n",
    "# Generate five samples of size 10 from a normal distribution with mean = 200 and sd = 10\n",
    "samplesOf10 <- sapply(1:5, function(x) rnorm(10, mean = 200, sd = 10))\n",
    "\n",
    "# Assign column names to identify each sample\n",
    "colnames(samplesOf10) <- paste0(\"Sample\", 1:5)\n",
    "\n",
    "# Compute the mean of each sample\n",
    "sample_mean <- apply(samplesOf10, 2, mean)\n",
    "\n",
    "# Print the generated samples\n",
    "print(\"Generated Samples:\")\n",
    "print(samplesOf10)\n",
    "\n",
    "# Print the computed sample means\n",
    "print(\"Mean of each sample (size 10):\")\n",
    "print(sample_mean)\n",
    "                   "
   ]
  },
  {
   "cell_type": "markdown",
   "id": "3000ab52-24c7-4a5b-a408-569197f78794",
   "metadata": {},
   "source": [
    "**Observation in the example**: In the five samples of size 10 generated above, the sample means have been computed. It is observed that the sample means vary across different samples.\n",
    "\n",
    "---"
   ]
  },
  {
   "cell_type": "markdown",
   "id": "92e55385-07c9-44c0-95e6-bbe5698c2a7b",
   "metadata": {},
   "source": [
    "## 1.2. Sampling Distribution and Inference\n",
    "Since collecting data from an entire population is often impractical, we rely on samples to infer and describe population characteristics using the available sample data. A large number of different samples of the same size can be drawn from a population, each producing its own sample statistic. This results in a collection of sample statistics.\n",
    "\n",
    "**Sampling distribution**: The collection of all possible sample statistics is called the **sampling distribution**.\n",
    "  \n",
    "**Key Points on Sampling and Inference**: \n",
    "- In practice, we typically have only one sample and thus one sample statistic to work with.\n",
    "- The estimation process is developed based on the sampling distribution and the observed sample statistic.\n",
    "\n",
    "\n",
    "**Sampling Distribution of mean**:  The distribution of sample mean ($\\bar{𝑥}$) obtained from all possible samples of same size drawn from population data. \n",
    "\n",
    "**Key points:** \n",
    "- Point estimator: The sample mean ($\\bar{𝑥}$) is the best point estimate of the population mean ($\\mu$)\n",
    "- Mean of the sampling distribution of $\\bar{𝑥}$ is equal to population mean, i.e. $E[\\bar{x}] = \\mu$. \n",
    "- Standard deviation  of the sampling distribution of $\\bar{𝑥}$   is given by $\\sigma_{\\bar{x}} = \\frac{\\sigma}{\\sqrt{n}}$ (called standard error SE)\n",
    "---"
   ]
  },
  {
   "attachments": {},
   "cell_type": "markdown",
   "id": "3a4bd72c",
   "metadata": {},
   "source": [
    "## 1.3. Law of Large Number\n",
    "**Definition**: As the size of a sample increases, the sample statistic gets closer to the true population parameter . \n",
    "This principle explains why larger samples provide more reliable estimates of population characteristics.\n",
    "\n",
    "**There are two key interpretations of LLN:**\n",
    "- Large Samples Improve Accuracy:\n",
    "As the sample size increases, the sample mean stabilizes and converges to the population mean.\n",
    "- Consistency in Long-Run Averages:\n",
    "Repeated experiments or observations yield results that are closer to the expected value over time. (as the number of samples increases sample statistic  approaches actual value)\n",
    "---"
   ]
  },
  {
   "cell_type": "code",
   "execution_count": 63,
   "id": "3599c5a8-48d7-4871-8145-22206ebdfe05",
   "metadata": {
    "scrolled": true
   },
   "outputs": [
    {
     "data": {
      "image/png": "[encoded data removed]"
     },
     "metadata": {
      "image/png": {
       "height": 420,
       "width": 420
      }
     },
     "output_type": "display_data"
    }
   ],
   "source": [
    "# Load necessary library\n",
    "library(ggplot2)\n",
    "\n",
    "# Set seed for reproducibility\n",
    "set.seed(123)\n",
    "\n",
    "# Define the number of trials (coin flips)\n",
    "n_flips <- 5000  # You can increase this to see a stronger effect\n",
    "\n",
    "# Simulate fair coin flips (1 = Heads, 0 = Tails)\n",
    "flips <- sample(c(0, 1), size = n_flips, replace = TRUE, prob = c(0.5, 0.5))\n",
    "\n",
    "# Compute cumulative mean at each step\n",
    "cumulative_mean <- cumsum(flips) / (1:n_flips)\n",
    "\n",
    "# Create a data frame for visualization\n",
    "data <- data.frame(\n",
    "  Trials = 1:n_flips,\n",
    "  CumulativeMean = cumulative_mean\n",
    ")\n",
    "\n",
    "# Plot the cumulative mean to show convergence to 0.5\n",
    "ggplot(data, aes(x = Trials, y = CumulativeMean)) +\n",
    "  geom_line(color = \"gold\", size = 1) +\n",
    "  geom_hline(yintercept = 0.5, linetype = \"dashed\", color = \"red\", size = 1) +\n",
    "  labs(title = \"Law of Large Numbers Visualization\",\n",
    "       subtitle = \"Sample Proportion Converges to 0.5 as Number of Flips Increases\",\n",
    "       x = \"Number of Coin Flips\",\n",
    "       y = \"Cumulative Proportion of Heads\") +\n",
    "  theme_minimal()+\n",
    "theme(\n",
    "    plot.title = element_text(hjust = 0.5, size = 16, face = \"bold\"),\n",
    "    plot.subtitle = element_text(hjust = 0.5, size = 12)\n",
    "  )"
   ]
  },
  {
   "cell_type": "markdown",
   "id": "5b6f8e76-72ff-48dd-8203-fe880ae11a28",
   "metadata": {},
   "source": [
    "The above figure shows how the sample proportion of heads converges to the theoretical probability (0.5) as the number of flips increases.\n",
    "\n",
    "---"
   ]
  },
  {
   "cell_type": "markdown",
   "id": "f256d00f-9d35-4b9f-9560-1a218e6cd2a0",
   "metadata": {},
   "source": [
    "## 1.4. Biased and Unbiased estimator\n",
    "An estimator is unbiased if their sampling distribution centred around the parameter. \n",
    "- Sample mean ($\\bar{𝑥}$ ) is an unbiased estimator of population mean $\\mu$, i.e. $E[\\bar{x}] = \\mu$.\n",
    "- Sample variance ($𝑠^2$) is an unbiased estimator of population variance $\\sigma^2$, i.e. $E[s^2] = \\sigma^2$.\n",
    "- Sample proportion ($\\hat{𝑝}$)  is an unbiased estimator of population proportion p, i.e. $E[\\hat{p}] = p$.\n",
    "\n",
    "Biased Estimator:\n",
    "- Sample Median  \n",
    "- Sample Standard Deviation\n",
    "- Sample Range\n",
    "---"
   ]
  },
  {
   "attachments": {},
   "cell_type": "markdown",
   "id": "24eda92b-bce3-412f-9ed5-798c376e0664",
   "metadata": {},
   "source": [
    "## 1.5. Central Limit Theorem (CLT)\n",
    "\n",
    "Central Limit Theorem (CLT) for Mean describes shape of the sampling distribution of sample mean ($\\bar{𝑥}$) in two different scenarios. \n",
    "For any data values: $𝑋_1, 𝑋_2,\\dots ,𝑋_𝑛$ are from a distribution with mean = 𝜇, and standard deviation = $\\sigma$.\n",
    "\n",
    "Two Cases Where CLT Applies: Normal or Big\n",
    "- Case 1: Data values from normal population (regardless of sample size)\n",
    "- Case 2: Not from normal, but sample size is big: n>30 (a common rule of thumb) (regardless of Normal Distribution)\n",
    "- The sampling distribution of the sample mean ($\\bar{𝑥}$) follows a normal distribution with\n",
    "    - Mean: $\\mu_{\\bar{𝑥}}  =\\mu$ (same as the population mean), and\n",
    "    - Standard deviation: $\\sigma_{\\bar{x}} = \\frac{\\sigma}{\\sqrt{n}}$ (called Standard Error).\n",
    "\n",
    "  \n",
    "**Key Point**: Why is CLT important?\n",
    "- The Central Limit Theorem (CLT) ensures that the sampling distribution of the sample mean is approximately normal, regardless of the shape of the population distribution, provided the sample size is sufficiently large ($𝑛>30$ as a rule of thumb).\n",
    "- The theory of estimation and hypothesis testing relies on CLT because it justifies the use of normal-based statistical methods, even when the underlying data is not normally distributed.\n",
    "---\n"
   ]
  },
  {
   "attachments": {},
   "cell_type": "markdown",
   "id": "b266fa0b-bb5a-4d36-abbf-35cf683aa5a3",
   "metadata": {},
   "source": [
    "## 1.6. Z-Score: A measure of relative understanding\n",
    "A **Z-score** (also known as a **standard score**) measures **how many standard deviations** a given data point (or score) is from the mean of the distribution. It standardizes the data, allowing comparisons across **different distributions or datasets**.\n",
    "**Formula for Z-score**  \n",
    "$$\n",
    "Z = \\frac{\\text{data} - \\text{mean}}{\\text{sd}} = \\frac{X - \\mu}{\\sigma}\n",
    "$$\n",
    "\n",
    "**Symbols and Definitions**\n",
    "-  $\\bar{x}$ : Sample Mean  \n",
    "-  $\\mu$ : Population Mean  \n",
    "-  s : Sample Standard Deviation  \n",
    "-  $\\sigma$ : Population Standard Deviation  \n",
    "\n",
    "**Understanding Z-score**:\n",
    "Suppose you received a score of 85 on a test where the class average is 75, with a standard deviation of 5.\n",
    "To assess how far your score deviates from the mean in terms of standard deviations, we calculate the Z-score.\n",
    "In this case, your Z-score is 2, indicating that your score is 2 standard deviations above the mean.\n",
    "\n",
    "\n",
    "**Interpretation of Z-scores**  \n",
    "- A *Z-score of 0* means the score is exactly **at the mean** (center of distribution).  \n",
    "- A *positive Z-score* means the score is **above the mean**.  \n",
    "- A *negative Z-score* means the score is **below the mean**.\n",
    "- Z-scores follows a normal distribution with **mean = 0** and **standard deviation = 1**. \n",
    "---"
   ]
  },
  {
   "cell_type": "markdown",
   "id": "1986db83-50ba-4db3-8638-f53d2a66b3fc",
   "metadata": {},
   "source": [
    "**Properties of the Normal Distribution**\n",
    "\n",
    "The **Empirical Rule** states that in a normal distribution:\n",
    "- **68%** of values fall within **1 standard deviation** of the mean.\n",
    "- **95%** of values fall within **2 standard deviations** of the mean.\n",
    "- **99.7%** of values fall within **3 standard deviations** of the mean.\n",
    "\n",
    "This is crucial in determining **confidence levels**.\n",
    "\n",
    "---"
   ]
  },
  {
   "cell_type": "markdown",
   "id": "625e1ae2-379f-4af2-853a-b7d0a433a000",
   "metadata": {},
   "source": [
    "### Example: Z-score as a Measure of Relative Understanding\n",
    "\n",
    "> Lisa lives in the UK and works as a teacher with an hourly wage of **£22.00**, while her friend Emma lives in Australia and earns **AUD 30.00** per hour as a teacher.\n",
    "\n",
    "- The average hourly wage for teachers in the UK is **£20.00** with a standard deviation of **£3.00**.\n",
    "- In Australia, the average hourly wage for teachers is **AUD 28.00** with a standard deviation of **AUD 5.00**.\n",
    "\n",
    "To determine who earns **better relative to their country's average wage**, we compute the **Z-score** for both Lisa and Emma.\n",
    "\n",
    "---"
   ]
  },
  {
   "cell_type": "code",
   "execution_count": 64,
   "id": "6fdf025b-ee37-4251-9048-47da224b2b96",
   "metadata": {},
   "outputs": [
    {
     "name": "stdout",
     "output_type": "stream",
     "text": [
      "Lisa's z-score:  0.6666667 \n",
      "Emma's z-score:  0.4 \n"
     ]
    }
   ],
   "source": [
    "## Compute Z-scores \n",
    "ComputeZ = function(X, mu, sigma){\n",
    "    z = (X-mu)/sigma\n",
    "    }\n",
    "# Calculate Z-scores\n",
    "Z_Lisa <- ComputeZ(22, 20, 3)\n",
    "Z_Emma <-  ComputeZ(30, 28, 5)\n",
    "# Print results\n",
    "cat(\"Lisa's z-score: \", Z_Lisa, \"\\n\")\n",
    "cat(\"Emma's z-score: \", Z_Emma, \"\\n\")"
   ]
  },
  {
   "cell_type": "markdown",
   "id": "f9a8f441-a533-425d-9294-bb42a3e1431c",
   "metadata": {},
   "source": [
    "Since Lisa's Z-score is higher than Emma's, it indicates that Lisa's income is relatively better compared to the average wage in her country. This means that, in relation to their respective country's average wages, Lisa earns more than Emma.\n",
    "\n",
    "---"
   ]
  },
  {
   "cell_type": "markdown",
   "id": "e5ac5696-bf14-4321-a8ee-888fc50b5f35",
   "metadata": {},
   "source": [
    "### **Z-score for individual data vs sample mean**\n",
    "> A university tracks the GPA of its students. The GPA of all students follows a normal distribution with:\n",
    "Mean ($\\mu$) = 3.0, Standard deviation ($\\sigma$) = 0.4\n",
    "> 1. Suppose a student, Alice, has a GPA of 3.6. What is her Z-score?\n",
    "> 2. Now, consider a random sample of 25 students taken from the university. What is the Z-score of their average GPA if their sample mean is $\\bar{𝑥}   = 3.2$?\n",
    "\n",
    "> - Individaul data: $z_{Alice} = \\frac{3.6-3}{0.4} = 1.5$.\n",
    "> - Sample mean: $z_\\bar{x} = \\frac{\\bar{x} -\\mu}{SE} =  \\frac{3-3.2}{\\frac{0.4}{\\sqrt{25}}} = 2.5$.\n",
    "---"
   ]
  },
  {
   "cell_type": "markdown",
   "id": "0a308cc5-2545-4d75-91d7-f162c2a9af16",
   "metadata": {},
   "source": [
    "# 2. Estimating the Mean in a One-Sample Scenario.\n",
    "\n",
    "We use **sample mean** to estimate **population mean**.\n",
    "\n",
    "In this tutorial, we cover:\n",
    "- Point Estimation and Interval Estimation\n",
    "- Confidence Intervals\n",
    "- Practical implementation in R\n",
    "\n",
    "---\n",
    "\n",
    "## 2.1. Types of Estimation\n",
    "###  Point Estimation\n",
    "A **point estimate** is a single value used to approximate the population mean. The most common estimator is the **sample mean** ($\\bar{x}$).\n",
    "\n",
    "> Example: If a sample of 10 students has an average GPA of **3.2**, then **3.2** is the point estimate of the population mean.\n",
    "---"
   ]
  },
  {
   "cell_type": "markdown",
   "id": "00d1da0a-81c5-492f-8043-67c66eaf9cef",
   "metadata": {},
   "source": [
    "### Interval Estimation (Confidence Intervals)\n",
    "A **confidence interval (CI)** provides a range within which we expect the true population mean $(\\mu)$ to lie: $\\bar{x} \\pm E$ and is denoted by\n",
    "\n",
    "$$\n",
    "\\bar{x} - E< \\mu < \\bar{x} + E, \n",
    "$$\n",
    "\n",
    "where:\n",
    "- E is called the margin of errorr\n",
    "    - $E = Z_{\\alpha/2} \\cdot SE$, and E is calculated from the z-test when population standard deviation is known.\n",
    "    - $E = t_{\\alpha/2} \\cdot SE$, and E is calculated from the t-test when population standard deviation is unknown.\n",
    "    - $z_{\\alpha/2} $  and  $ t_{\\alpha/2}$ are the **Z-score** and **t-score** for the confidence level\n",
    "- $SE = \\frac{s}{\\sqrt{n}}$is the **standard error**\n",
    "---  "
   ]
  },
  {
   "cell_type": "markdown",
   "id": "5c134719-f75b-4e78-982d-a435f4303ee8",
   "metadata": {},
   "source": [
    "#### **1. t-Score and Inference of Mean**\n",
    "\n",
    "> **What is a t-Score?**\n",
    "The **t-score** is a standardized value used in hypothesis testing and confidence interval estimation when the population standard deviation $(\\sigma)$ is **unknown** and is estimated from the sample.\n",
    "\n",
    "$$\n",
    "t = \\frac{\\bar{x} - \\mu}{s / \\sqrt{n}},\n",
    "$$\n",
    "\n",
    "Where:\n",
    "- $\\bar{x}$ = Sample mean\n",
    "- $\\mu $ = Population mean (typically unknown)\n",
    "- $ s $ = Sample standard deviation (estimate of  $\\sigma$)\n",
    "- $n$ = Sample size\n",
    "\n",
    "**Key Properties of the t-Distribution**\n",
    "- The t-distribution is **bell-shaped** and **symmetrical**, like the normal distribution.\n",
    "- It has **heavier tails** than the normal distribution (more widder distribution than normal).\n",
    "- As $ n $ increases, the t-distribution **approaches** the standard normal distribution.\n",
    "- It's variability is determined by **degrees of freedom** $df = n - 1$.\n",
    "---\n"
   ]
  },
  {
   "cell_type": "markdown",
   "id": "0c182090-e900-467a-8d89-0ca2a2626ea4",
   "metadata": {},
   "source": [
    "#### **2. Z-Score VS t-Score**\n",
    "\n",
    "- **Z-Score (Standard Normal)**\n",
    "$$\n",
    "Z = \\frac{\\bar{x} - \\mu}{\\sigma / \\sqrt{n}}\n",
    "$$\n",
    "    - The Z-score follows a **standard normal distribution** ($\\mu = 0, \\sigma = 1$).\n",
    "    - Used **when** the population standard deviation (\\(\\sigma\\)) is **known**.\n",
    "      \n",
    "---\n",
    "- **t-Score (Student's t-Distribution)**\n",
    "$$\n",
    "t = \\frac{\\bar{x} - \\mu}{s / \\sqrt{n}}\n",
    "$$\n",
    "    - The t-score follows a **t-distribution** with **\\(n - 1\\) degrees of freedom**.\n",
    "    - Used **when** the population standard deviation ($\\sigma$) is **unknown** and is estimated using the **sample standard deviation** (s).\n",
    "\n",
    "---"
   ]
  },
  {
   "cell_type": "markdown",
   "id": "58b23a73-c347-4660-8e13-f83c5ba16b6f",
   "metadata": {},
   "source": [
    "#### **3. Margin of Error (E):**\n",
    "The **margin of error** describes how much the sample mean ($\\bar{x}$) is expected to deviate from the true population mean ($\\mu$). It relies on sample size and the standard deviation.\n",
    "\n",
    "$$\n",
    "E = z_{\\alpha/2} \\cdot \\frac{\\sigma}{\\sqrt{n}}\n",
    "$$\n",
    "\n",
    "- $z_{\\alpha/2}$ = **Critical value** from the standard normal table (based on the desired confidence level).\n",
    "- $\\sigma$ = Population standard deviation.\n",
    "- $n$ = Sample size.\n",
    "\n",
    "For **unknown $\\sigma$**, replace $ z_{\\alpha/2}$ with $ t_{\\alpha/2, df}$ and $\\sigma$ with $s$ (sample standard deviation).\n",
    "\n",
    "---"
   ]
  },
  {
   "cell_type": "markdown",
   "id": "cc574d63-674e-42f5-953c-cbc21dde5ab8",
   "metadata": {},
   "source": [
    "#### **4. Confidence Interval (CI)**\n",
    "The **confidence interval** provides a range where we expect the true population mean to lie:\n",
    "\n",
    "$$\n",
    "CI = \\bar{x} \\pm E\n",
    "$$\n",
    "\n",
    "or equivalently:\n",
    "\n",
    "$$\n",
    "\\bar{x} - E < \\mu < \\bar{x} + E\n",
    "$$\n",
    "\n",
    "#### **5. Interpretation of 95% Confidence Interval:** \n",
    "- If we construct a 95% confidence interval, it means that **95% of the time, the calculated interval will contain the true population mean**.\n",
    "- We usually say, we are 95% confident that the estimated confidence interval contain the true value. \n",
    "\n",
    "---"
   ]
  },
  {
   "cell_type": "markdown",
   "id": "2ea7cc73-1767-42ac-8f02-c01ce776bfb3",
   "metadata": {},
   "source": [
    "#### **6. Confidence Interval Using the t-Score**\n",
    "When the population standard deviation ($\\sigma$) is unknown, we use the **t-distribution** to construct a confidence interval.\n",
    "\n",
    "**Formula for Confidence Interval**\n",
    "$$\n",
    "CI = \\bar{x} \\pm t_{\\alpha/2, df} \\cdot \\frac{s}{\\sqrt{n}}\n",
    "$$\n",
    "\n",
    "Where:\n",
    "- $ t_{\\alpha/2, df}$ = **Critical t-value** for a given confidence level and degrees of freedom.\n",
    "- $ s $ = **Sample standard deviation**.\n",
    "- $ n $ = **Sample size**.\n",
    "\n",
    "---\n",
    "\n",
    "#### **7. Finding the t-Critical Value $(t_{\\alpha/2, df})$**\n",
    "- The **t-critical value** depends on the confidence level and degrees of freedom.\n",
    "- It is found using a **t-table** or statistical software.\n",
    "- **Common values for a 95% confidence level**:\n",
    "---"
   ]
  },
  {
   "cell_type": "code",
   "execution_count": 65,
   "id": "7bca886e-bbe2-4703-a3da-5c601da261c4",
   "metadata": {},
   "outputs": [
    {
     "data": {
      "image/png": "[encoded data removed]"
     },
     "metadata": {
      "image/png": {
       "height": 420,
       "width": 420
      }
     },
     "output_type": "display_data"
    }
   ],
   "source": [
    "# Load necessary library\n",
    "library(ggplot2)\n",
    "\n",
    "# Define x-axis range\n",
    "x <- seq(-5, 5, length.out = 100)\n",
    "\n",
    "# Compute density for Normal distribution\n",
    "normal_density <- dnorm(x, mean = 0, sd = 1)\n",
    "\n",
    "# Compute density for t-distributions with different degrees of freedom\n",
    "df_values <- c(5, 10, 20)  # Different degrees of freedom\n",
    "t_densities <- lapply(df_values, function(df) dt(x, df = df))\n",
    "\n",
    "# Create a data frame for ggplot\n",
    "data <- data.frame(\n",
    "  x = rep(x, times = length(df_values) + 1),\n",
    "  density = c(normal_density, unlist(t_densities)),\n",
    "  Distribution = factor(rep(c(\"Normal\", paste0(\"t (df=\", df_values, \")\")), each = length(x)))\n",
    ")\n",
    "\n",
    "# Plot in the center of Jupyter Notebook\n",
    "options(jupyter.plot_mimetypes = \"image/png\")  # Ensures proper rendering in Jupyter\n",
    "\n",
    "ggplot(data, aes(x = x, y = density, color = Distribution)) +\n",
    "  geom_line(size = 1.2) +\n",
    "  theme_minimal() +\n",
    "  labs(title = \"Comparison of Normal vs. t-Distribution\",\n",
    "       x = \"Value\",\n",
    "       y = \"Density\") +\n",
    "  scale_color_manual(values = c(\"black\", \"red\", \"blue\", \"green\")) +\n",
    "  theme(legend.position = \"top\",\n",
    "        plot.title = element_text(hjust = 0.5))  # Centers the title\n"
   ]
  },
  {
   "cell_type": "markdown",
   "id": "bab10333-ce10-41f0-9137-b258b6881e83",
   "metadata": {},
   "source": [
    "> Example: A sample of 50 potato chip bags has a mean weight of **198g** and a sample standard deviation of **10g**.  \n",
    "> A **95% confidence interval** for the population mean weight is:\n",
    "\n",
    "$$\n",
    "198 \\pm (1.96 \\times \\frac{10}{\\sqrt{50}})\n",
    "$$\n",
    "\n",
    "$$\n",
    "198 \\pm 2.77\n",
    "$$\n",
    "\n",
    "$$\n",
    "(195.23, 200.77)\n",
    "$$\n",
    "\n",
    "This means we are **95% confident** that the true mean weight is between **195.23g and 200.77g**.\n",
    "\n",
    "---"
   ]
  },
  {
   "cell_type": "markdown",
   "id": "bac04c03-7804-47a3-bce4-26a5b620f674",
   "metadata": {},
   "source": [
    "### 2.2. Practical Implementation in R\n",
    "#### Compute Sample Mean (Point estiamte)"
   ]
  },
  {
   "cell_type": "code",
   "execution_count": 66,
   "id": "aea6224a-9ce4-43b0-bdd8-27ec1149b6f0",
   "metadata": {},
   "outputs": [
    {
     "name": "stdout",
     "output_type": "stream",
     "text": [
      "Sample Mean: 49.52896"
     ]
    }
   ],
   "source": [
    "set.seed(123)\n",
    "sample_data <- rnorm(30, mean = 50, sd = 10)\n",
    "sample_mean <- mean(sample_data)\n",
    "cat(\"Sample Mean:\", sample_mean)"
   ]
  },
  {
   "cell_type": "code",
   "execution_count": 67,
   "id": "5768d121-48b2-4444-af14-7c845148e43c",
   "metadata": {},
   "outputs": [
    {
     "data": {
      "text/plain": [
       "\n",
       "\tOne Sample t-test\n",
       "\n",
       "data:  sample_data\n",
       "t = 27.653, df = 29, p-value < 2.2e-16\n",
       "alternative hypothesis: true mean is not equal to 0\n",
       "95 percent confidence interval:\n",
       " 45.86573 53.19219\n",
       "sample estimates:\n",
       "mean of x \n",
       " 49.52896 \n"
      ]
     },
     "metadata": {},
     "output_type": "display_data"
    }
   ],
   "source": [
    "t.test(x = sample_data, conf.level = 0.95)"
   ]
  },
  {
   "cell_type": "markdown",
   "id": "dd2113e9-aee3-42b5-a55d-05fa62d65d0e",
   "metadata": {},
   "source": [
    "> **Interpretation**: We are 95% Confident that the true mean lies in between 45.87 and 53.19. "
   ]
  },
  {
   "attachments": {},
   "cell_type": "markdown",
   "id": "22682993-28ac-4c8b-afe6-9e48f3db7ee3",
   "metadata": {},
   "source": [
    "### 2.3. Understnding the Confidence Interval\n",
    "\n",
    "**Understanding a 95% Confidence Interval**: When we say “we are 95% confident that the interval actually contains the true value of the population parameter,” it means that:\n",
    "\n",
    "- If we repeatedly take multiple random samples of a given size from the population, and for each sample, we construct a confidence interval, then approximately 95% of these confidence intervals will contain the true population parameter.\n",
    "- We have only one sample, which produces a single confidence interval which is one of those. As a result, we say we are 95% confident that the true population value lies within this interval.\n",
    "- This does not mean that a single confidence interval has a 95% probability of containing the true parameter—rather, it means that in repeated sampling, 95% of such intervals would capture the true value.\n",
    "  "
   ]
  },
  {
   "cell_type": "markdown",
   "id": "98b4412d-f367-48ac-b918-0f39830aadee",
   "metadata": {},
   "source": [
    "#### Summary Table\n",
    "\n",
    "| Concept                  | Formula                                      | Explanation                                   |\n",
    "|--------------------------|----------------------------------------------|-----------------------------------------------|\n",
    "| **Sample Mean** ($\\bar{x}$)  | $\\bar{x} = \\frac{\\sum X_i}{n}$  | The average of the sample data. |\n",
    "| **Standard Error (SE)**  | $SE = \\frac{s}{\\sqrt{n}}$  | Measures variability in the sample mean. |\n",
    "| **Confidence Interval (CI)**  | $\\bar{x} \\pm t_{\\alpha/2} \\cdot SE$  | Provides a range for estimating the population mean. |\n",
    "|**In R** | t.test(x=data, conf.level = 0.95)| Provides the 95% Confidence interval estimate of mean.|\n",
    "\n",
    "---"
   ]
  },
  {
   "cell_type": "markdown",
   "id": "ca7f218b-3255-492d-a59e-4403fb0f1324",
   "metadata": {},
   "source": [
    "### 2.4. Confidence Level and Critical Value\n",
    "The confidence level is linked to the **critical value** ($z_{\\alpha/2}$ or $t_{\\alpha/2, df}$), which is the number of standard errors away from the mean.\n",
    "\n",
    "**Common Confidence Levels and Their Critical Values**\n",
    "| Confidence Level | $\\alpha$ | $z_{\\alpha/2}$ (Normal) |  $t_{\\alpha/2, df}$ (unknow $\\sigma$) |\n",
    "|-----------------|-------------|------------------|-------------------|\n",
    "| 90%            | 0.10        | 1.645            | Depends on df     |\n",
    "| 95%            | 0.05        | 1.960            | Depends on df     |\n",
    "| 99%            | 0.01        | 2.576            | Depends on df     |\n",
    "\n",
    "---\n",
    "---"
   ]
  },
  {
   "cell_type": "markdown",
   "id": "6a4b5a99-ebb5-451f-a722-0df17df8e48c",
   "metadata": {},
   "source": [
    "# 3. Hypothsis Testing for Mean using One Sample and Two Samples"
   ]
  },
  {
   "cell_type": "markdown",
   "id": "41713e25-5370-4651-8b18-7d5a6e3985e8",
   "metadata": {},
   "source": [
    "**Introduction**\n",
    "\n",
    "This tutorial will guide you through the concepts and implementation of **one-sample z-test**, **one-sample t-test**, **independent sample t-test**, and **paired t-test** in R. We will also discuss their assumptions, Type I and Type II errors, and how statistical tests make sense in hypothesis testing.\n",
    "\n",
    "**Hypothsis Testing**: A statistical procedure of testing a claim about population parameters. \n",
    "A test of hypothesis consists of two parts:\n",
    "\n",
    "- **Null hypothesis ($𝑯_𝟎$)**:\n",
    "    - A statement about a population parameter stating that the parameter is equal to some given reference value.\n",
    "    - It is assumed true until there is sufficient evidence to reject it.\n",
    "\n",
    "- **Alternative hypothesis ($𝑯_𝟏 or 𝑯_𝑨$)**:\n",
    "    - A statement that the population parameter differs from the null hypothesis.\n",
    "    - It reflects what you are trying to prove or provide evidence for.\n",
    "---"
   ]
  },
  {
   "cell_type": "markdown",
   "id": "012d8385-c229-4e97-8126-4ba37d44edf9",
   "metadata": {},
   "source": [
    "## 3.1 **Key Points of Hypothesis Testing**\n",
    "\n",
    "- **Null Hypothesis ($H_0$):**\n",
    "    - Represents the default or expected claim.\n",
    "    - States that there is no effect, no difference, or no relationship.\n",
    "    - **Example:** $H_0: \\mu = \\mu_0$ (The population mean $\\mu$ is equal to a specific value $\\mu_0$).\n",
    "\n",
    "- **Alternative Hypothesis ($H_1$):**\n",
    "    - Represents the opposite of the null hypothesis.\n",
    "    - Reflects the claim or effect we are trying to find evidence for.\n",
    "    - **Example:** $H_1: \\mu \\neq \\mu_0$ (The population mean $\\mu$ is not equal to $\\mu_0$).\n",
    "\n",
    "- **Sample Data:**\n",
    "    - Provides the evidence used to evaluate the hypotheses.\n",
    "    - Collected from the population of interest.\n",
    "\n",
    "- **Test Statistic:**\n",
    "    - A calculated value (e.g., z-score, t-score) based on the sample data, assuming the null hypothesis is true.\n",
    "    - Measures how far the sample result is from the null hypothesis.\n",
    "\n",
    "- **Hypothesis Test:**\n",
    "    - Since the sample statistic varies, it is normal to observe values different from what is expected under the null hypothesis.\n",
    "    - A hypothesis test determines whether the test statistic is consistent with the null hypothesis.\n",
    "    - Null hypothesis is rejected if the observed data produces an extreme value that is unlikely under the null hypothesis.\n",
    "    - A significance level ($\\alpha$) (e.g., 0.05) is used as a threshold to decide whether to reject $H_0$.\n",
    "    - If the test statistic falls in the critical region (or if the p-value < $\\alpha$), we reject $H_0$.\n",
    "    - We can visualize this idea through the sampling distribution: for $\\alpha = 0.05$, 95% of values are considered usual for null being true, while 5% are unsual (or extreme) for null. If our data produces a test statistic within this 5% extreme region, we reject the null hypothesis.\n",
    "\n",
    "- **Simplified Workflow:**\n",
    "     - 1. State $H_0$ and $H_1$.\n",
    "     - 2. Collect sample data.\n",
    "     - 3. Calculate the test statistic.\n",
    "     - 4. Compare the test statistic to the critical value or compute the p-value.\n",
    "     - 5. Make a decision: If p-value < $\\alpha$, Reject $H_0$ or othewise fail to reject $H_0$.\n",
    "---"
   ]
  },
  {
   "cell_type": "markdown",
   "id": "cc39924f-6f4b-4124-8383-3e6cbd64e23f",
   "metadata": {},
   "source": [
    "## 3.2 Hypothesis Testing: \n",
    "While conducting hypothesis testing, our main focus is to compare parameter values. These comparisons are primarily based on the claims made about the parameters, which lead to three types of tests.\n",
    "\n",
    "- **Two-Tailed Test**\n",
    "    - **Scenario:** The mean ACT score is claimed to be 19.85. We want to test if the mean differs from 19.85.\n",
    "        - **Null Hypothesis (H₀):** \\$ \\mu = 19.85 \\$\n",
    "        - **Alternative Hypothesis (Hₐ):** \\$ \\mu \\neq 19.85 \\$\n",
    "\n",
    "- **Left-Tailed Test**\n",
    "    - **Scenario:** Customers have reported that the protein bars contain less protein than the advertised **20 grams**.\n",
    "        - **Null Hypothesis (H₀):** \\$ \\mu \\geq 20 \\$\n",
    "        - **Alternative Hypothesis (Hₐ):** \\$ \\mu < 20 \\$\n",
    "\n",
    "- **Right-Tailed Test**\n",
    "    - **Scenario:** The miles per gallon (MPG) of a newly developed car is claimed to be greater than **50**.\n",
    "        - **Null Hypothesis (H₀):** \\$ \\mu \\leq 50 \\$\n",
    "        - **Alternative Hypothesis (Hₐ):** \\$ \\mu > 50 \\$\n",
    "---"
   ]
  },
  {
   "cell_type": "markdown",
   "id": "465e267b-4a38-4b16-9c0d-2680e36d4680",
   "metadata": {},
   "source": [
    "## 3.3. One-Sample Z-Test vs One-Sample T-Test\n",
    "\n",
    "- **When to Use:**\n",
    "    - **One-Sample Z-Test**: Used when you want to compare the mean of a sample to a known population mean, and the **population standard deviation is known**.\n",
    "    - **One-Sample T-Test**: Used when the **population standard deviation is unknown**, and you estimate it using the **sample standard deviation**.\n",
    "\n",
    "- **Assumptions:**\n",
    "    - The data is normally distributed (or approximately normal for large sample sizes).\n",
    "    - Observations are independent.\n",
    "    - For the **z-test**, the **population standard deviation must be known** (very unusual case because we do not know it)."
   ]
  },
  {
   "cell_type": "markdown",
   "id": "ec6103bf-6f15-4e33-bed2-9bd991592287",
   "metadata": {},
   "source": [
    "## 3.4. Type I and Type II Errors in Hypothesis Testing\n",
    "\n",
    "In hypothesis testing, errors can occur when making decisions about the null hypothesis ($H_0$). These errors are classified into **Type I** and **Type II** errors.\n",
    "\n",
    "---\n",
    "\n",
    "- **1. Type I Error (False Positive)**\n",
    "    - **Definition**: A **Type I error** occurs when we **reject the null hypothesis ($H_0$) when it is actually true**.  \n",
    "    - **Consequence**: We conclude that there is an effect or difference when, in reality, none exists.  \n",
    "    - **Significance Level ($\\alpha$)**: The probability of making a Type I error is denoted by **$\\alpha$** (commonly set at **0.05** or **5%**).  \n",
    "    >- **Example**: A **medical test** wrongly detects a disease in a healthy person, where null is no diseses, alternative: disease is possible \n",
    "\n",
    "\n",
    "---\n",
    "\n",
    "- **2. Type II Error (False Negative)**\n",
    "    - **Definition**: A **Type II error** occurs when we **fail to reject the null hypothesis ($H_0$) when it is actually false**.  \n",
    "    - **Consequence**: We fail to detect an effect or difference that actually exists.  \n",
    "    - **Probability ($\\beta$)**: The probability of making a Type II error is denoted by **$\\beta$**.  \n",
    "    >- **Example**: A **medical test** fails to detect a disease in a person who actually has it.  \n",
    "\n",
    "> *Real-life analogy*: A **fire alarm** not going off when there **is a fire**.\n",
    "\n",
    "---\n",
    "\n",
    "- **Key Differences Between Type I and Type II Errors**\n",
    "\n",
    "| Error Type  | What Happens? | Reality | Probability | Example |\n",
    "|------------|--------------|---------|-------------|---------|\n",
    "| **Type I Error**  | Reject $H_0$ when it is true | No real effect exists | $\\alpha$ (False Positive Rate) | Convicting an innocent person |\n",
    "| **Type II Error** | Fail to reject $H_0$ when it is false | A real effect exists | $\\beta$ (False Negative Rate) | Letting a guilty person go free |\n",
    "\n",
    "---\n",
    "\n",
    "- **Balancing Type I and Type II Errors**\n",
    "    - Lowering **$\\alpha$ (Type I error rate)** makes it harder to reject $H_0$, increasing the chance of a **Type II error**.\n",
    "    - Reducing **$\\beta$ (Type II error rate)** increases the test's **power**, making it easier to detect real effects but increasing the risk of **Type I errors**.\n",
    "    - The balance depends on the context—**medical tests** prioritize reducing **Type II errors**, while **legal trials** prioritize minimizing **Type I errors**.\n",
    "\n",
    "---\n",
    "\n",
    "**Note:** Understanding Type I and Type II errors is crucial for designing robust hypothesis tests and making informed statistical decisions.\n"
   ]
  },
  {
   "cell_type": "markdown",
   "id": "4136b431-a95a-4daa-ac66-3a6311b269f6",
   "metadata": {},
   "source": [
    "### Implementation in R (One-Sample Z-Test)"
   ]
  },
  {
   "cell_type": "code",
   "execution_count": 19,
   "id": "baca9207-77f2-4c8b-9f09-9f6473432db5",
   "metadata": {},
   "outputs": [],
   "source": [
    "# Custom function for One-Sample Z-Test\n",
    "z_test <- function(sample_mean, mu0, pop_sd, n, alternative) {\n",
    "    #@ alternative_type = c(\"two.sided\", \"less\", \"greater\")\n",
    "  z_score <- (sample_mean - mu0) / (pop_sd / sqrt(n))\n",
    "    if (\"alternative\" == \"two.sided\") p_value <- 2 * pnorm(-abs(z_score)) # two-tailed test\n",
    "    else if (\"alternative\" == \"less\") p_value <- pnorm(z_score) # left-tailed test\n",
    "    else p_value <- pnorm(z_score) # right-tailed test\n",
    "    \n",
    "  return(list(z_score = z_score, p_value = p_value))\n",
    "}"
   ]
  },
  {
   "attachments": {},
   "cell_type": "markdown",
   "id": "0ce32093-2a27-4ec2-b3b4-006a6bcbed15",
   "metadata": {},
   "source": [
    "- **Example 1 (One Sample Z-test):**\n",
    ">**Scenario:** Suppose scores on exams in Statistics are normally distributed and standard deviation is assumed as 3 points. A random sample of 32 scores is taken and observed as\n",
    ">sample data = c(64,68,69,69,69,69,69,70,71,71,72,72,72,72,72,73,73,73,74,74,74,74,74,75,76,76,77,77,77,77,77,79).\n",
    ">If a mean test score below 75 is considered poor student performance, do you think the students' performance qualifies as poor based on the given data? Make your decision based on significance level α=0.01."
   ]
  },
  {
   "cell_type": "code",
   "execution_count": 40,
   "id": "e7013ef8-ca67-439a-9e74-c5ead5725992",
   "metadata": {},
   "outputs": [
    {
     "data": {
      "text/html": [
       "<dl>\n",
       "\t<dt>$Sample_mean</dt>\n",
       "\t\t<dd>72.78125</dd>\n",
       "\t<dt>$sample_size</dt>\n",
       "\t\t<dd>32</dd>\n",
       "</dl>\n"
      ],
      "text/latex": [
       "\\begin{description}\n",
       "\\item[\\$Sample\\_mean] 72.78125\n",
       "\\item[\\$sample\\_size] 32\n",
       "\\end{description}\n"
      ],
      "text/markdown": [
       "$Sample_mean\n",
       ":   72.78125\n",
       "$sample_size\n",
       ":   32\n",
       "\n",
       "\n"
      ],
      "text/plain": [
       "$Sample_mean\n",
       "[1] 72.78125\n",
       "\n",
       "$sample_size\n",
       "[1] 32\n"
      ]
     },
     "metadata": {},
     "output_type": "display_data"
    }
   ],
   "source": [
    "# z-test Implementation in R \n",
    "sample_data = c(64,68,69,69,69,69,69,70,71,71,72,72,72,72,72,73,73,73,74,74,74,74,74,75,76,76,77,77,77,77,77,79)\n",
    "n <- length(sample_data)\n",
    "sample_mean <- mean(sample_data)\n",
    "list('Sample_mean' =sample_mean, 'sample_size' = n)\n"
   ]
  },
  {
   "cell_type": "markdown",
   "id": "01b38813-2699-4648-aaeb-25fdbe193d2a",
   "metadata": {},
   "source": [
    "**Tets of Hypothesis**: We want to test whether mean test score is below 75.\n",
    "\n",
    "- Null Hypothesis ($H_0$): \\$ \\mu \\geq 75 \\$ | (can be written as \\$ \\mu = 75 \\$)\n",
    "- Alternative Hypothesis ($H_a$): \\$ \\mu < 75 \\$"
   ]
  },
  {
   "cell_type": "code",
   "execution_count": 21,
   "id": "c7b570ea-2440-46b8-9e8e-6ab3c7c84cac",
   "metadata": {
    "scrolled": true
   },
   "outputs": [
    {
     "data": {
      "text/html": [
       "<dl>\n",
       "\t<dt>$z_score</dt>\n",
       "\t\t<dd>-4.18371512202041</dd>\n",
       "\t<dt>$p_value</dt>\n",
       "\t\t<dd>1.43391726272425e-05</dd>\n",
       "</dl>\n"
      ],
      "text/latex": [
       "\\begin{description}\n",
       "\\item[\\$z\\_score] -4.18371512202041\n",
       "\\item[\\$p\\_value] 1.43391726272425e-05\n",
       "\\end{description}\n"
      ],
      "text/markdown": [
       "$z_score\n",
       ":   -4.18371512202041\n",
       "$p_value\n",
       ":   1.43391726272425e-05\n",
       "\n",
       "\n"
      ],
      "text/plain": [
       "$z_score\n",
       "[1] -4.183715\n",
       "\n",
       "$p_value\n",
       "[1] 1.433917e-05\n"
      ]
     },
     "metadata": {},
     "output_type": "display_data"
    }
   ],
   "source": [
    "# One-Sample z-Test\n",
    "z_test(sample_mean = sample_mean, mu0 = 75, pop_sd = 3, n = 32, alternative = \"less\")\n"
   ]
  },
  {
   "cell_type": "markdown",
   "id": "02489516-e468-4a07-9994-94de6869d921",
   "metadata": {},
   "source": [
    ">**Test Conclusion**: We obtained $p-value = 0.000014$ which is less than the significance level $\\alpha = 0.01$. Therefore, we reject the null hypothesis. This indicates that the sample data provides strong evidence supporting that the mean test score is below 75, suggesting that students' performance qualifies as poor.\n",
    "\n",
    "---"
   ]
  },
  {
   "attachments": {},
   "cell_type": "markdown",
   "id": "b6d01da7-b36f-4ffa-8732-5c2d8f743128",
   "metadata": {},
   "source": [
    "- **Example 2 (One Sample T-test) :**\n",
    "> **Scenario:** A pharmaceutical company claims that its new weight-loss pill helps users lose an average of 10 pounds over a 12-week period. To verify this claim, a consumer advocacy group conducts an independent study to test whether the average weight loss differs from the company’s claim. They randomly select 28 participants who take the pill for 12 weeks and record their weight loss (in pounds)  as\n",
    "> \n",
    "> c(5.9,7.5,12.5,11.9,9.1,9.7,9.9,9.3,12.4,9.1,10.7,10.5,5.7,8.0,9.1,11.1,8.2,10.7,9.2,9.8,11.3,8.5,10.2,7.0,9.9,8.9,11.7,7.8)\n",
    "> Test whether the average weight loss differs from the company’s claim, use $\\alpha = 0.05$. "
   ]
  },
  {
   "cell_type": "code",
   "execution_count": 36,
   "id": "17ada456-0353-4d8a-afd3-d306d8a57b2d",
   "metadata": {},
   "outputs": [
    {
     "data": {
      "text/html": [
       "<dl>\n",
       "\t<dt>$Sample_mean</dt>\n",
       "\t\t<dd>9.48571428571429</dd>\n",
       "\t<dt>$sample_size</dt>\n",
       "\t\t<dd>28</dd>\n",
       "\t<dt>$sample_sd</dt>\n",
       "\t\t<dd>1.77507731406254</dd>\n",
       "</dl>\n"
      ],
      "text/latex": [
       "\\begin{description}\n",
       "\\item[\\$Sample\\_mean] 9.48571428571429\n",
       "\\item[\\$sample\\_size] 28\n",
       "\\item[\\$sample\\_sd] 1.77507731406254\n",
       "\\end{description}\n"
      ],
      "text/markdown": [
       "$Sample_mean\n",
       ":   9.48571428571429\n",
       "$sample_size\n",
       ":   28\n",
       "$sample_sd\n",
       ":   1.77507731406254\n",
       "\n",
       "\n"
      ],
      "text/plain": [
       "$Sample_mean\n",
       "[1] 9.485714\n",
       "\n",
       "$sample_size\n",
       "[1] 28\n",
       "\n",
       "$sample_sd\n",
       "[1] 1.775077\n"
      ]
     },
     "metadata": {},
     "output_type": "display_data"
    }
   ],
   "source": [
    "weight_loss = c(5.9,7.5,12.5,11.9,9.1,9.7,9.9,9.3,12.4,9.1,10.7,10.5,5.7,8.0,9.1,11.1,8.2,10.7,9.2,9.8,11.3,8.5,10.2,7.0,9.9,8.9,11.7,7.8)\n",
    "n <- length(weight_loss)\n",
    "sample_mean <- mean(weight_loss)\n",
    "sample_sd <- sd(weight_loss)\n",
    "list('Sample_mean' =sample_mean, 'sample_size' = n, 'sample_sd' = sample_sd)"
   ]
  },
  {
   "cell_type": "markdown",
   "id": "0083e459-7356-4a6c-b23f-ca78535a578d",
   "metadata": {},
   "source": [
    "**Tets of Hypothesis**: whether the average weight loss differs from the company’s claim 10 lbs.\n",
    "\n",
    "- Null Hypothesis ($H_0$): \\$ \\mu = 10 \\$ \n",
    "- Alternative Hypothesis ($H_a$): \\$ \\mu \\neq 10 \\$"
   ]
  },
  {
   "cell_type": "code",
   "execution_count": 38,
   "id": "a92ddbde-e9c3-4925-9c07-017f76f4f22c",
   "metadata": {
    "scrolled": true
   },
   "outputs": [
    {
     "data": {
      "text/plain": [
       "\n",
       "\tOne Sample t-test\n",
       "\n",
       "data:  weight_loss\n",
       "t = -1.5331, df = 27, p-value = 0.1369\n",
       "alternative hypothesis: true mean is not equal to 10\n",
       "95 percent confidence interval:\n",
       "  8.797411 10.174017\n",
       "sample estimates:\n",
       "mean of x \n",
       " 9.485714 \n"
      ]
     },
     "metadata": {},
     "output_type": "display_data"
    }
   ],
   "source": [
    "# One-Sample t-Test\n",
    "t.test(x = weight_loss, mu = 10, alternative = \"two.sided\")"
   ]
  },
  {
   "cell_type": "markdown",
   "id": "09439c6a-2f8c-49db-b22b-308eacdc325a",
   "metadata": {},
   "source": [
    ">**Test Conclusion**: Since the p-value of $0.1369$ is greater than the significance level $\\alpha = 0.05$, we do not reject the null hypothesis. This suggests that there is insufficient evidence to refuse the company's claim that the new weight-loss pill helps users lose an average of 10 pounds over a 12-week period.\n",
    "---"
   ]
  },
  {
   "cell_type": "markdown",
   "id": "ceb64692-ff55-43c8-9083-3eb5537614e3",
   "metadata": {},
   "source": [
    "## 3.4. Independent Sample T-Test (Two Sample Scenario)\n",
    "\n",
    "- **When to Use:**\n",
    "    - Used to compare the **means of two independent or unrelated groups**, or\n",
    "    - Applied when examining the effect of a binary variable on a quantitative response variable.\n",
    "\n",
    "\n",
    "- **Assumptions:**\n",
    "    - The data in each group is **normally distributed**.\n",
    "    - The **variances of the two groups are equal** (homogeneity of variance).\n",
    "    - Observations are **independent** within and between groups.\n",
    "\n",
    "- **Hypotheses:**\n",
    "    - **Null Hypothesis (H0)**: The means of the two groups are equal.\n",
    "    - **Alternative Hypothesis (H1)**: The means of the two groups are not equal.\n",
    "    - If the means are equal, it implies that both groups have the same effect on the response variable."
   ]
  },
  {
   "cell_type": "markdown",
   "id": "2df91d9f-2db6-49a3-ae53-4a70bf60e2d9",
   "metadata": {},
   "source": [
    "- **Example 3 (Two Sample T-test):** \n",
    "> A company wants to test whether their new training program improves employee productivity compared to the old program. They randomly select two independent groups of employees. After training, they measure the number of tasks completed by each employee.\n",
    "> \n",
    "> Old Training Program ($n_1 = 10$): 20, 22, 25, 23, 19, 18, 21, 24, 22, 20\n",
    ">\n",
    ">New Training Program ($n_2 = 12$): 26, 28, 30, 27, 25, 29, 31, 30, 28, 27, 26, 30\n",
    ">"
   ]
  },
  {
   "cell_type": "markdown",
   "id": "3b8b546e-a064-4a94-9ad5-57ed22b388af",
   "metadata": {},
   "source": [
    ">**Tets of Hypothesis**: We want to test whether their new training program improves employee productivity compared to the old program.\n",
    ">That is old mean productivity score is less than  new mean productivity score (This goes to alternative). \n",
    "\n",
    "- Null Hypothesis ($H_0$): \\$ \\mu_1 \\geq \\mu_2 \\$ \n",
    "- Alternative Hypothesis ($H_a$): \\$ \\mu_1 < \\mu_2 \\$"
   ]
  },
  {
   "cell_type": "code",
   "execution_count": 41,
   "id": "8edcf85c-4471-468d-9002-bff6aaf59fa2",
   "metadata": {
    "scrolled": true
   },
   "outputs": [
    {
     "data": {
      "text/plain": [
       "\n",
       "\tTwo Sample t-test\n",
       "\n",
       "data:  group1 and group2\n",
       "t = -7.5574, df = 20, p-value = 1.388e-07\n",
       "alternative hypothesis: true difference in means is less than 0\n",
       "95 percent confidence interval:\n",
       "      -Inf -5.158084\n",
       "sample estimates:\n",
       "mean of x mean of y \n",
       " 21.40000  28.08333 \n"
      ]
     },
     "metadata": {},
     "output_type": "display_data"
    }
   ],
   "source": [
    "### Implementation in R:\n",
    "#two independent samples\n",
    "group1 <- c(20, 22, 25, 23, 19, 18, 21, 24, 22, 20)\n",
    "group2 <- c(26, 28, 30, 27, 25, 29, 31, 30, 28, 27, 26, 30)\n",
    "\n",
    "# Independent Sample T-Test\n",
    "t.test(group1, group2, var.equal = TRUE, alternative = \"less\")"
   ]
  },
  {
   "cell_type": "markdown",
   "id": "b64b9974-6d8d-4840-9657-5e967466bb3f",
   "metadata": {},
   "source": [
    ">**Test Conclusion**: Since the p-value of $1.388*10^{-07}$ is less than the significance level $\\alpha = 0.05$, we reject the null hypothesis. This suggests that there is sufficient evidence to support the company's claim that new training program improves employee productivity compared to the old program. \n",
    "---"
   ]
  },
  {
   "cell_type": "markdown",
   "id": "b7f0e0eb-240e-492b-8894-2f91d21d75f4",
   "metadata": {},
   "source": [
    "- **Testing the claim using Confidence Interval**\n",
    "    - If **0** is included in the interval, then the difference is $\\textbf{not significant}$ (fail to reject $H_0$).\n",
    "    - If both the $\\textbf{lower limit and upper limit are negative}$, it indicates a $\\textbf{significant difference}$, supporting $\\mu_1 < \\mu_2$.\n",
    "    - If both the $\\textbf{lower limit and upper limit are positive}$, it indicates a $\\textbf{significant difference}$, supporting $\\mu_1 > \\mu_2$."
   ]
  },
  {
   "cell_type": "markdown",
   "id": "ec9b9cfa-6612-4b2b-9bf5-595ff37d9de8",
   "metadata": {},
   "source": [
    "> The above T-test rsult shows the confidence interval as (-Inf,  -5.158084)\n",
    ">\n",
    "> That means $-\\infty <\\mu_1 -\\mu_2 < -5.158084$\n",
    "> \n",
    "> Since confidence interval entirely contains negative valeus, $\\mu_1 -\\mu_2< 0 \\implies \\mu_1 < \\mu_2$ is reasonable.  "
   ]
  },
  {
   "cell_type": "markdown",
   "id": "de7efe15-198c-4095-87d3-294d6278f153",
   "metadata": {},
   "source": [
    "## 3.5. Paired Sample T-Test\n",
    "\n",
    "- **When to Use:**\n",
    "    - Used to compare the means of **two related groups** (e.g., **before-and-after** measurements).\n",
    "\n",
    "- **Assumptions:**\n",
    "    - The **differences between pairs** are normally distributed.\n",
    "    - Observations are **paired and dependent**.\n",
    "\n",
    "- **Hypotheses:**\n",
    "    - **Null Hypothesis (H0)**: The mean difference between pairs is zero, $\\mu_d = 0$\n",
    "    - **Alternative Hypothesis (H1)**: The mean difference between pairs is not zero, $\\mu_d \\neq (\\text{or}\\: <\\: \\text{or} >) 0$"
   ]
  },
  {
   "cell_type": "markdown",
   "id": "bdc37da3-d7de-4621-a089-8e7d69385919",
   "metadata": {},
   "source": [
    "- **Example 4 (Paired sample t-test)**:\n",
    "A fitness coach wants to determine if a new diet plan significantly impacts weight loss. He records the weights of 16 individuals before and after the diet program as follows:\n",
    "    - Before: (3.7,4.3,3.5,4.6,3.7,4.5,3.7,4.1,3.3,3.7,4.4,4.4,3.5,5.0,3.7,4.4)\n",
    "    - After: (3.9,3.4,3.7,2.9,4.0,3.7,3.2,4.2,4.0,4.0,3.6,3.9,3.6,3.9,4.2,4.2)"
   ]
  },
  {
   "cell_type": "markdown",
   "id": "610bbc70-f13f-4a45-9207-9c96adb75bbb",
   "metadata": {},
   "source": [
    "- **Hypotheses:** We want to test whether new diet plan is effective in weight loss. \n",
    "    - **Null Hypothesis (H0)**: The mean difference between pairs is zero, $\\mu_d = 0$ (no effecteive)\n",
    "    - **Alternative Hypothesis (H1)**: New diet plan is effective, $\\mu_d > 0$"
   ]
  },
  {
   "cell_type": "code",
   "execution_count": 47,
   "id": "de8b9029-4e8b-4474-b453-25980b21a97e",
   "metadata": {},
   "outputs": [
    {
     "data": {
      "text/plain": [
       "\n",
       "\tPaired t-test\n",
       "\n",
       "data:  before and after\n",
       "t = 1.5337, df = 15, p-value = 0.07296\n",
       "alternative hypothesis: true mean difference is greater than 0\n",
       "95 percent confidence interval:\n",
       " -0.03664092         Inf\n",
       "sample estimates:\n",
       "mean difference \n",
       "        0.25625 \n"
      ]
     },
     "metadata": {},
     "output_type": "display_data"
    }
   ],
   "source": [
    "### Implementation in R:\n",
    "before <- c(3.7,4.3,3.5,4.6,3.7,4.5,3.7,4.1,3.3,3.7,4.4,4.4,3.5,5.0,3.7,4.4)\n",
    "after <- c(3.9,3.4,3.7,2.9,4.0,3.7,3.2,4.2,4.0,4.0,3.6,3.9,3.6,3.9,4.2,4.2)\n",
    "# Paired Sample T-Test\n",
    "t.test(before, after, paired = TRUE, alternative = \"greater\")"
   ]
  },
  {
   "cell_type": "markdown",
   "id": "593e6baf-3983-4d29-9cb6-268edda37c7a",
   "metadata": {},
   "source": [
    ">**Test Conclusion**: Since the p-value of $0.07296$ is greater than the significance level $\\alpha = 0.05$, we fail to reject the null hypothesis. Therefore, the data does not provide sufficient evidence to conclude that the new diet plan has a significant impact on weight loss.\n",
    "---"
   ]
  },
  {
   "cell_type": "markdown",
   "id": "39a2c2c9-1119-4a7d-ab8f-7cd8675eddbd",
   "metadata": {},
   "source": [
    "## 4. How Statistical Tests Make Sense\n",
    "Statistical tests help us make **inferences** about populations based on sample data. Here's how they make sense:\n",
    "\n",
    "- **Hypothesis Testing Framework:**\n",
    "    - We start with a **null hypothesis (H0)** and an **alternative hypothesis (H1)**.\n",
    "    - We calculate a **test statistic** (e.g., z-score, t-score) that measures how far our sample statistic is from the null hypothesis.\n",
    "    - We compare the **test statistic** to a **critical value** or calculate a **p-value** to determine whether to reject $( H_0 )$.\n",
    "\n",
    "**P-Value:**\n",
    "    - The **p-value** is the **probability of obtaining a test statistic as extreme as (or more extreme than) the observed one, assuming $ H_0 $ is true**.\n",
    "    - A **small p-value** (e.g., < 0.05) suggests that the observed data is unlikely under $H_0 $., so we reject $H_0$.\n",
    "\n",
    "- **Type I and Type II Errors:**\n",
    "    - Balancing these errors is crucial. A **lower significance level (e.g., 0.01)** reduces Type I errors but increases Type II errors, and vice versa.\n",
    "\n",
    "**Assumptions:**\n",
    "    - Violations of assumptions (e.g., **non-normality, unequal variances**) can lead to incorrect conclusions. Always check assumptions before performing tests.\n",
    "\n",
    "## 5. Summary of Tests\n",
    "\n",
    "| **Test**                | **Use Case**                                      | **Assumptions**                    | **R Function**         |\n",
    "|-------------------------|--------------------------------------------------|-------------------------------------|-------------------------|\n",
    "| One-Sample Z-Test      | Compare sample mean to known value     | Known population standard deviation | Custom function        |\n",
    "| One-Sample T-Test      | Compare sample mean to known value       | Unknown population standard deviation | `t.test()`           |\n",
    "| Independent T-Test     | Compare means of two independent groups          | Normality, equal variances         | `t.test()`            |\n",
    "| Paired T-Test         | Compare means of two related groups               | Normality of differences           | `t.test(paired=TRUE)` |\n",
    "\n",
    "---\n",
    "- **Practical Tips**\n",
    "    - **Always visualize your data** (e.g., histograms, boxplots) to check assumptions.\n",
    "    - **Use non-parametric tests** (e.g., Wilcoxon test) if assumptions are violated.\n",
    "    - **Report effect sizes** (e.g., Cohen's d) alongside p-values for practical significance.\n",
    "---\n",
    "---\n"
   ]
  },
  {
   "cell_type": "markdown",
   "id": "6c977b3c-86c0-4cde-9010-799423924f5f",
   "metadata": {},
   "source": [
    "## 4. How Statistical Tests Make Sense\n",
    "Statistical tests help us make **inferences** about populations based on sample data. Here's how they make sense:\n",
    "\n",
    "### Hypothesis Testing Framework:\n",
    "- We start with a **null hypothesis (H0)** and an **alternative hypothesis (H1)**.\n",
    "- We calculate a **test statistic** (e.g., z-score, t-score) that measures how far our sample statistic is from the null hypothesis.\n",
    "- We compare the **test statistic** to a **critical value** or calculate a **p-value** to determine whether to reject $ H_0 $.\n",
    "\n",
    "### P-Value:\n",
    "- The **p-value** is the **probability of observing the data (or something more extreme) if $ H_0 $ is true**.\n",
    "- A **small p-value** (e.g., < 0.05) suggests that the observed data is unlikely under $ H_0 $, so we reject $ H_0 $.\n",
    "\n",
    "### Type I and Type II Errors:\n",
    "- Balancing these errors is crucial. A **lower significance level (e.g., 0.01)** reduces Type I errors but increases Type II errors, and vice versa.\n",
    "\n",
    "### Assumptions:\n",
    "- Violations of assumptions (e.g., **non-normality, unequal variances**) can lead to incorrect conclusions. Always check assumptions before performing tests.\n",
    "\n",
    "## 5. Summary of Tests\n",
    "\n",
    "| **Test**                | **Use Case**                                      | **Assumptions**                    | **R Function**         |\n",
    "|-------------------------|--------------------------------------------------|-------------------------------------|-------------------------|\n",
    "| One-Sample Z-Test      | Compare sample mean to known population mean     | Known population standard deviation | Custom function        |\n",
    "| One-Sample T-Test      | Compare sample mean to known population mean     | Unknown population standard deviation | `t.test()`           |\n",
    "| Independent T-Test     | Compare means of two independent groups          | Normality, equal variances         | `t.test()`            |\n",
    "| Paired T-Test         | Compare means of two related groups               | Normality of differences           | `t.test(paired=TRUE)` |\n",
    "\n",
    "## 6. Practical Tips\n",
    "- **Always visualize your data** (e.g., histograms, boxplots) to check assumptions.\n",
    "- **Use non-parametric tests** (e.g., Wilcoxon test) if assumptions are violated.\n",
    "- **Report effect sizes** (e.g., Cohen's d) alongside p-values for practical significance.\n",
    "\n",
    "By understanding these tests and their assumptions, you can make **informed decisions** about your data and avoid common pitfalls in statistical analysis."
   ]
  }
 ],
 "metadata": {
  "kernelspec": {
   "display_name": "R",
   "language": "R",
   "name": "ir"
  },
  "language_info": {
   "codemirror_mode": "r",
   "file_extension": ".r",
   "mimetype": "text/x-r-source",
   "name": "R",
   "pygments_lexer": "r",
   "version": "4.2.3"
  }
 },
 "nbformat": 4,
 "nbformat_minor": 5
}
